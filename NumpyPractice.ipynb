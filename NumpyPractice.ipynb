{
 "cells": [
  {
   "cell_type": "code",
   "execution_count": 12,
   "id": "ad4dde89-7857-4a08-a645-ec2bad76b161",
   "metadata": {},
   "outputs": [
    {
     "name": "stdout",
     "output_type": "stream",
     "text": [
      "[1 2 3 4 5]\n",
      "<class 'numpy.ndarray'>\n"
     ]
    }
   ],
   "source": [
    "import numpy as np\n",
    "arr = np.array([1, 2, 3, 4, 5])\n",
    "print(arr)\n",
    "print(type(arr))"
   ]
  },
  {
   "cell_type": "code",
   "execution_count": 11,
   "id": "6d47e338-8d74-4c89-88f9-3eefe04c97e2",
   "metadata": {},
   "outputs": [
    {
     "name": "stdout",
     "output_type": "stream",
     "text": [
      "[[[1 2 3]\n",
      "  [4 5 6]]\n",
      "\n",
      " [[7 8 9]\n",
      "  [4 5 6]]]\n"
     ]
    }
   ],
   "source": [
    "arr = np.array([[[1, 2, 3], [4, 5, 6]], [[7, 8, 9], [4, 5, 6]]])\n",
    "print(arr)"
   ]
  },
  {
   "cell_type": "code",
   "execution_count": 9,
   "id": "5dd5d79c-ced3-4cef-bc57-3c7fec1901cf",
   "metadata": {},
   "outputs": [
    {
     "name": "stdout",
     "output_type": "stream",
     "text": [
      "0\n",
      "1\n",
      "2\n",
      "3\n"
     ]
    }
   ],
   "source": [
    "a = np.array(42)\n",
    "b = np.array([1, 2, 3, 4, 5])\n",
    "c = np.array([[1, 2, 3], [4, 5, 6]])\n",
    "d = np.array([[[1, 2, 3], [4, 5, 6]], [[1, 2, 3], [4, 5, 6]]])\n",
    "\n",
    "print(a.ndim)\n",
    "print(b.ndim)\n",
    "print(c.ndim)\n",
    "print(d.ndim)"
   ]
  },
  {
   "cell_type": "code",
   "execution_count": 10,
   "id": "d5df04fb-c867-48a8-a65b-9b853703fe0a",
   "metadata": {},
   "outputs": [
    {
     "name": "stdout",
     "output_type": "stream",
     "text": [
      "[array([[1, 2, 3],\n",
      "       [4, 5, 6]]), array([[ 7,  8,  9],\n",
      "       [10, 11, 12]]), array([[13, 14, 15],\n",
      "       [16, 17, 18]])]\n"
     ]
    }
   ],
   "source": [
    "arr = np.array([[1, 2, 3], [4, 5, 6], [7, 8, 9], [10, 11, 12], [13, 14, 15], [16, 17, 18]])\n",
    "\n",
    "newarr = np.array_split(arr, 3)\n",
    "\n",
    "print(newarr)"
   ]
  },
  {
   "cell_type": "code",
   "execution_count": 13,
   "id": "ee9bbba0-b75d-4008-a650-167f3df764ed",
   "metadata": {},
   "outputs": [
    {
     "name": "stdout",
     "output_type": "stream",
     "text": [
      "[array([[ 1],\n",
      "       [ 4],\n",
      "       [ 7],\n",
      "       [10],\n",
      "       [13],\n",
      "       [16]]), array([[ 2],\n",
      "       [ 5],\n",
      "       [ 8],\n",
      "       [11],\n",
      "       [14],\n",
      "       [17]]), array([[ 3],\n",
      "       [ 6],\n",
      "       [ 9],\n",
      "       [12],\n",
      "       [15],\n",
      "       [18]])]\n"
     ]
    }
   ],
   "source": [
    "arr = np.array([[1, 2, 3], [4, 5, 6], [7, 8, 9], [10, 11, 12], [13, 14, 15], [16, 17, 18]])\n",
    "\n",
    "newarr = np.array_split(arr, 3, axis=1)\n",
    "\n",
    "print(newarr)"
   ]
  },
  {
   "cell_type": "code",
   "execution_count": 14,
   "id": "c122efe1-1d89-4bc1-abbe-69df097a1b29",
   "metadata": {},
   "outputs": [
    {
     "name": "stdout",
     "output_type": "stream",
     "text": [
      "[[[ 1  2]\n",
      "  [ 3  4]\n",
      "  [ 5  6]]\n",
      "\n",
      " [[ 7  8]\n",
      "  [ 9 10]\n",
      "  [11 12]]]\n"
     ]
    }
   ],
   "source": [
    "arr = np.array([1, 2, 3, 4, 5, 6, 7, 8, 9, 10, 11, 12])\n",
    "\n",
    "newarr = arr.reshape(2, 3, 2)\n",
    "\n",
    "print(newarr)\n"
   ]
  },
  {
   "cell_type": "code",
   "execution_count": 17,
   "id": "3f0bf730-205a-43ef-983d-c2f0f8485ab3",
   "metadata": {},
   "outputs": [
    {
     "name": "stdout",
     "output_type": "stream",
     "text": [
      "1\n",
      "2\n",
      "3\n",
      "4\n",
      "5\n",
      "6\n"
     ]
    }
   ],
   "source": [
    "arr = np.array([[1, 2, 3], [4, 5, 6]])\n",
    "\n",
    "for x in arr:\n",
    "  for y in x:\n",
    "    print(y)"
   ]
  },
  {
   "cell_type": "code",
   "execution_count": 18,
   "id": "c6f05ace-a48c-43fe-9900-395075fb5d05",
   "metadata": {},
   "outputs": [
    {
     "name": "stdout",
     "output_type": "stream",
     "text": [
      "1\n",
      "2\n",
      "3\n",
      "4\n",
      "5\n",
      "6\n",
      "7\n",
      "8\n",
      "9\n",
      "10\n",
      "11\n",
      "12\n"
     ]
    }
   ],
   "source": [
    "arr = np.array([[[1, 2, 3], [4, 5, 6]], [[7, 8, 9], [10, 11, 12]]])\n",
    "\n",
    "for x in arr:\n",
    "  for y in x:\n",
    "    for z in y:\n",
    "      print(z)"
   ]
  },
  {
   "cell_type": "code",
   "execution_count": 20,
   "id": "3271f7d8-6f4e-4802-8db1-4c4a0470275a",
   "metadata": {},
   "outputs": [
    {
     "name": "stdout",
     "output_type": "stream",
     "text": [
      "[[[1 4 8]\n",
      "  [2 5 7]\n",
      "  [3 6 9]]]\n"
     ]
    }
   ],
   "source": [
    "arr1 = np.array([1, 2, 3])\n",
    "arr2 = np.array([4, 5, 6])\n",
    "arr3 = np.array([8, 7, 9])\n",
    "arr = np.dstack((arr1, arr2, arr3))\n",
    "\n",
    "print(arr)\n"
   ]
  },
  {
   "cell_type": "code",
   "execution_count": 23,
   "id": "760be0e9-885c-40a8-a774-17e9cc3d26a4",
   "metadata": {},
   "outputs": [
    {
     "name": "stdout",
     "output_type": "stream",
     "text": [
      "[array([1, 2]), array([3]), array([4]), array([5]), array([6])]\n"
     ]
    }
   ],
   "source": [
    "arr = np.array([1, 2, 3, 4, 5, 6])\n",
    "newarr = np.array_split(arr, 5)\n",
    "print(newarr)"
   ]
  },
  {
   "cell_type": "code",
   "execution_count": null,
   "id": "27c9c3d8-9458-44cb-acff-d9d63377a722",
   "metadata": {},
   "outputs": [],
   "source": []
  }
 ],
 "metadata": {
  "kernelspec": {
   "display_name": "Python 3 (ipykernel)",
   "language": "python",
   "name": "python3"
  },
  "language_info": {
   "codemirror_mode": {
    "name": "ipython",
    "version": 3
   },
   "file_extension": ".py",
   "mimetype": "text/x-python",
   "name": "python",
   "nbconvert_exporter": "python",
   "pygments_lexer": "ipython3",
   "version": "3.8.10"
  }
 },
 "nbformat": 4,
 "nbformat_minor": 5
}
