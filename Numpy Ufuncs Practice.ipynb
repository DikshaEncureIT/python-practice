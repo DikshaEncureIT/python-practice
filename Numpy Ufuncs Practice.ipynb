{
 "cells": [
  {
   "cell_type": "code",
   "execution_count": 12,
   "id": "d1438ea0-8e17-4b5e-a68e-177c618de5fb",
   "metadata": {},
   "outputs": [
    {
     "name": "stdout",
     "output_type": "stream",
     "text": [
      "[1, 2, 3, 4, 5] [5, 8, 9, 6, 4] []\n",
      "[6, 10, 12, 10, 9]\n"
     ]
    }
   ],
   "source": [
    "# Ufuncs example without using ufunc\n",
    "x=[1,2,3,4,5]\n",
    "y=[5,8,9,6,4]\n",
    "z=[]\n",
    "# print(x,y,z)\n",
    "for i, j in zip(x,y):\n",
    " z.append(i+j)\n",
    "print(z)"
   ]
  },
  {
   "cell_type": "code",
   "execution_count": 15,
   "id": "a6864e11-2e96-4aab-bee5-f5e965e0023a",
   "metadata": {},
   "outputs": [
    {
     "name": "stdout",
     "output_type": "stream",
     "text": [
      "[8 7 9 8]\n"
     ]
    }
   ],
   "source": [
    "# Example using Ufunc\n",
    "import numpy as np\n",
    "x=[4,2,3,1]\n",
    "y=[4,5,6,7]\n",
    "z=np.add(x,y)\n",
    "print(z)\n"
   ]
  },
  {
   "cell_type": "code",
   "execution_count": 20,
   "id": "37c46fc8-5d67-40d8-96fe-fbe41c1d535a",
   "metadata": {},
   "outputs": [
    {
     "name": "stdout",
     "output_type": "stream",
     "text": [
      "[6 8 10 12]\n"
     ]
    }
   ],
   "source": [
    "# using own function\n",
    "def myadd(x, y):\n",
    "  return x+y\n",
    "\n",
    "myadd = np.frompyfunc(myadd, 2, 1)\n",
    "\n",
    "print(myadd([1, 2, 3, 4], [5, 6, 7, 8]))"
   ]
  },
  {
   "cell_type": "code",
   "execution_count": 35,
   "id": "60fc720c-cde1-40fa-93af-def56ee24f2b",
   "metadata": {},
   "outputs": [
    {
     "name": "stdout",
     "output_type": "stream",
     "text": [
      "addition  [ 5  7  9 12 14]\n",
      "subtract  [3 3 3 4 4]\n",
      "Multiply  [ 4 10 18 32 45]\n",
      "divide  [0.25       0.4        0.5        0.5        0.55555556]\n",
      "power  [      1      32     729   65536 1953125]\n",
      "Mod  [1 2 3 4 5]\n",
      "remainder  [1 2 3 4 5]\n",
      "divmod  (array([0, 0, 0, 0, 0]), array([1, 2, 3, 4, 5]))\n",
      "[4 5 6 8 9]\n"
     ]
    }
   ],
   "source": [
    "# Simple Arithmetic\n",
    "\n",
    "import numpy as np\n",
    "arr1=np.array([1,2,3,4,5])\n",
    "arr2=np.array([4,5,6,8,9])\n",
    "arr3=np.add(arr1,arr2)\n",
    "print(\"addition \",arr3)\n",
    "\n",
    "arr3=np.subtract(arr2,arr1)\n",
    "print(\"subtract \", arr3)\n",
    "\n",
    "arr3=np.multiply(arr1,arr2)\n",
    "print(\"Multiply \",arr3)\n",
    "\n",
    "arr3=np.divide(arr1, arr2)\n",
    "print(\"divide \",arr3)\n",
    "\n",
    "arr3=np.power(arr1, arr2)\n",
    "print(\"power \",arr3)\n",
    "\n",
    "arr3=np.mod(arr1, arr2)\n",
    "print(\"Mod \",arr3)\n",
    "\n",
    "arr3= np.remainder(arr1, arr2)\n",
    "print(\"remainder \", arr3)\n",
    "\n",
    "newarr = np.divmod(arr1, arr2)\n",
    "print(\"divmod \",newarr)\n",
    "\n",
    "newarr = np.absolute(arr2)\n",
    "print(\"absolute \",newarr)"
   ]
  },
  {
   "cell_type": "code",
   "execution_count": 42,
   "id": "55fa915e-d3fb-4888-9a48-ef4e05bf69d6",
   "metadata": {},
   "outputs": [
    {
     "name": "stdout",
     "output_type": "stream",
     "text": [
      "[-3.  3.]\n",
      "[-3.  3.]\n",
      "3.17\n",
      "[-4.  3.]\n",
      "[-3.  4.]\n"
     ]
    }
   ],
   "source": [
    "# Rounding Decimals\n",
    "arr = np.trunc([-3.1666, 3.6667])\n",
    "print(arr)\n",
    "\n",
    "arr = np.fix([-3.1666, 3.6667])\n",
    "print(arr)\n",
    "\n",
    "arr = np.around(3.1666, 2)\n",
    "print(arr)\n",
    "\n",
    "arr = np.floor([-3.1666, 3.6667])\n",
    "print(arr)\n",
    "\n",
    "arr = np.ceil([-3.1666, 3.6667])\n",
    "print(arr)"
   ]
  },
  {
   "cell_type": "code",
   "execution_count": 51,
   "id": "3963c31d-1093-4e95-b016-0b9d4f144e7d",
   "metadata": {},
   "outputs": [
    {
     "name": "stdout",
     "output_type": "stream",
     "text": [
      "log2  [0.         1.         1.5849625  2.         2.32192809 2.5849625\n",
      " 2.80735492 3.         3.169925  ]\n",
      "log10  [0.         0.30103    0.47712125 0.60205999 0.69897    0.77815125\n",
      " 0.84509804 0.90308999 0.95424251]\n",
      "log  [0.         0.69314718 1.09861229 1.38629436 1.60943791 1.79175947\n",
      " 1.94591015 2.07944154 2.19722458]\n",
      "nplog  1.7005483074552052\n"
     ]
    }
   ],
   "source": [
    "# NumPy Logs\n",
    "arr = np.arange(1, 10)\n",
    "print(\"log2 \",np.log2(arr))\n",
    "print(\"log10 \",np.log10(arr))\n",
    "print(\"log \",np.log(arr))\n",
    "\n",
    "from math import log\n",
    "import numpy as np\n",
    "nplog = np.frompyfunc(log, 2, 1)\n",
    "print(\"nplog \",nplog(100, 15))"
   ]
  },
  {
   "cell_type": "code",
   "execution_count": 58,
   "id": "bfa709e3-2b40-47a5-b387-555468ed8150",
   "metadata": {},
   "outputs": [
    {
     "name": "stdout",
     "output_type": "stream",
     "text": [
      "add [ 2  7 12]\n",
      "sum 21\n",
      "[ 6 15]\n",
      "Cummulative Sum\n",
      "[1 3 6]\n",
      "[ 1  6 15]\n"
     ]
    }
   ],
   "source": [
    "# NumPy Summations\n",
    "arr1 = np.array([1, 2, 3])\n",
    "arr2 = np.array([1, 5, 9])\n",
    "\n",
    "newarr = np.add(arr1, arr2)\n",
    "print(\"add\",newarr)\n",
    "# sum of all array no total\n",
    "newarr = np.sum([arr1, arr2])\n",
    "print(\"sum\",newarr) \n",
    "\n",
    "# sum of array indivisial\n",
    "newarr = np.sum([arr1, arr2], axis=1)\n",
    "print(newarr)\n",
    "\n",
    "# Cummulative Sum\n",
    "print(\"Cummulative Sum\")\n",
    "newarr = np.cumsum(arr1)\n",
    "print(newarr)\n",
    "newarr = np.cumsum(arr2)\n",
    "print(newarr)\n"
   ]
  },
  {
   "cell_type": "code",
   "execution_count": 65,
   "id": "f6800653-4d7e-41a2-9fbe-1fb9c2a556b8",
   "metadata": {},
   "outputs": [
    {
     "name": "stdout",
     "output_type": "stream",
     "text": [
      "24\n",
      "1680\n",
      "40320\n",
      "[  24 1680]\n",
      "[   5   30  210 1680]\n"
     ]
    }
   ],
   "source": [
    "# NumPy Products\n",
    "x = np.prod(arr1)\n",
    "print(x)\n",
    "x = np.prod(arr2)\n",
    "print(x)\n",
    "\n",
    "arr1 = np.array([1, 2, 3, 4])\n",
    "arr2 = np.array([5, 6, 7, 8])\n",
    "x = np.prod([arr1, arr2])\n",
    "print(x)\n",
    "newarr = np.prod([arr1, arr2], axis=1)\n",
    "print(newarr)\n",
    "newarr = np.cumprod(arr2)\n",
    "print(newarr)"
   ]
  },
  {
   "cell_type": "code",
   "execution_count": 67,
   "id": "406118b3-fb0b-492f-82a1-7e07bec57abc",
   "metadata": {},
   "outputs": [
    {
     "name": "stdout",
     "output_type": "stream",
     "text": [
      "[  5  10 -20]\n",
      "[  5 -30]\n"
     ]
    }
   ],
   "source": [
    "# NumPy Differences\n",
    "\n",
    "arr = np.array([10, 15, 25, 5])\n",
    "newarr = np.diff(arr)\n",
    "print(newarr)\n",
    "\n",
    "newarr = np.diff(arr, n=2)\n",
    "print(newarr)"
   ]
  },
  {
   "cell_type": "code",
   "execution_count": 77,
   "id": "9f935a0c-86ac-4ca5-9442-3d6184d3de3b",
   "metadata": {},
   "outputs": [
    {
     "name": "stdout",
     "output_type": "stream",
     "text": [
      "lcm  24\n",
      "gcd  2\n",
      "lcm 18\n",
      "gcd 3\n",
      "2520\n"
     ]
    }
   ],
   "source": [
    "# NumPy LCM Lowest Common Multiple\n",
    "num1 = 8\n",
    "num2 = 6\n",
    "\n",
    "x = np.lcm(num1, num2)\n",
    "print(\"lcm \",x)\n",
    "x = np.gcd(num1, num2)\n",
    "print(\"gcd \",x)\n",
    "\n",
    "arr = np.array([3, 6, 9])\n",
    "x = np.lcm.reduce(arr)\n",
    "print(\"lcm\",x)\n",
    "\n",
    "x = np.gcd.reduce(arr)\n",
    "print(\"gcd\",x)\n",
    "\n",
    "arr = np.arange(1, 11)\n",
    "x = np.lcm.reduce(arr)\n",
    "print(x)"
   ]
  },
  {
   "cell_type": "code",
   "execution_count": 88,
   "id": "f3a211cf-6d9a-4586-8348-dd2b4a228ad2",
   "metadata": {},
   "outputs": [
    {
     "name": "stdout",
     "output_type": "stream",
     "text": [
      "1.0\n",
      "[1.         0.8660254  0.70710678 0.58778525]\n",
      "[1.57079633 3.14159265 4.71238898 6.28318531]\n",
      "[ 90. 180. 270. 360.]\n",
      "1.5707963267948966\n",
      "[ 1.57079633 -1.57079633  0.10016742]\n",
      "5.0\n"
     ]
    }
   ],
   "source": [
    "# NumPy Trigonometric Functions\n",
    "x = np.sin(np.pi/2)\n",
    "print(x)\n",
    "arr = np.array([np.pi/2, np.pi/3, np.pi/4, np.pi/5])\n",
    "x = np.sin(arr)\n",
    "print(x)\n",
    "arr = np.array([90, 180, 270, 360])\n",
    "x = np.deg2rad(arr)\n",
    "print(x)\n",
    "\n",
    "\n",
    "arr = np.array([np.pi/2, np.pi, 1.5*np.pi, 2*np.pi])\n",
    "x = np.rad2deg(arr)\n",
    "print(x)\n",
    "\n",
    "x = np.arcsin(1.0)\n",
    "print(x)\n",
    "\n",
    "arr = np.array([1, -1, 0.1])\n",
    "x = np.arcsin(arr)\n",
    "print(x)\n",
    "\n",
    "base = 3\n",
    "perp = 4\n",
    "x = np.hypot(base, perp)\n",
    "print(x)"
   ]
  },
  {
   "cell_type": "code",
   "execution_count": 95,
   "id": "1b73fb3e-2088-442f-ae5e-2fda42364a0d",
   "metadata": {},
   "outputs": [
    {
     "name": "stdout",
     "output_type": "stream",
     "text": [
      "[1 2 3 4 5 6 7]\n",
      "[1 2 3 4 5 6]\n",
      "[3 4]\n",
      "[]\n",
      "[1 2 5 6]\n"
     ]
    }
   ],
   "source": [
    "arr = np.array([1, 1, 1, 2, 3, 4, 5, 5, 6, 7])\n",
    "x = np.unique(arr)\n",
    "print(x)\n",
    "\n",
    "arr1 = np.array([1, 2, 3, 4])\n",
    "arr2 = np.array([3, 4, 5, 6])\n",
    "newarr = np.union1d(arr1, arr2)\n",
    "print(newarr)\n",
    "newarr = np.intersect1d(arr1, arr2, assume_unique=True)\n",
    "print(newarr)\n",
    "newarr = np.setdiff1d(arr, arr, assume_unique=True)\n",
    "print(newarr)\n",
    "\n",
    "set1 = np.array([1, 2, 3, 4])\n",
    "set2 = np.array([3, 4, 5, 6])\n",
    "newarr = np.setxor1d(set1, set2, assume_unique=True)\n",
    "print(newarr)\n"
   ]
  },
  {
   "cell_type": "code",
   "execution_count": null,
   "id": "bc36ee93-63ed-4397-8032-ed97c012e704",
   "metadata": {},
   "outputs": [],
   "source": []
  },
  {
   "cell_type": "code",
   "execution_count": null,
   "id": "888fa6b7-584c-414d-943c-ca9fcc5986da",
   "metadata": {},
   "outputs": [],
   "source": []
  },
  {
   "cell_type": "code",
   "execution_count": null,
   "id": "54f246b8-2f45-4ad0-b1d8-d38cdc14db38",
   "metadata": {},
   "outputs": [],
   "source": []
  },
  {
   "cell_type": "code",
   "execution_count": null,
   "id": "f45b40c6-4083-4910-902a-febd28fd4078",
   "metadata": {},
   "outputs": [],
   "source": []
  }
 ],
 "metadata": {
  "kernelspec": {
   "display_name": "Python 3 (ipykernel)",
   "language": "python",
   "name": "python3"
  },
  "language_info": {
   "codemirror_mode": {
    "name": "ipython",
    "version": 3
   },
   "file_extension": ".py",
   "mimetype": "text/x-python",
   "name": "python",
   "nbconvert_exporter": "python",
   "pygments_lexer": "ipython3",
   "version": "3.8.10"
  }
 },
 "nbformat": 4,
 "nbformat_minor": 5
}
